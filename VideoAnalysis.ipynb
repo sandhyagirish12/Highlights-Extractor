{
 "cells": [
  {
   "cell_type": "markdown",
   "id": "45dd4270",
   "metadata": {},
   "source": [
    "## Highlights_Extractor\n",
    "\n",
    "#### Importing Libraries"
   ]
  },
  {
   "cell_type": "code",
   "execution_count": 1,
   "id": "fe8dbd80",
   "metadata": {},
   "outputs": [],
   "source": [
    "import cv2                                         # for capturing videos\n",
    "import math                                        # for mathematical operations\n",
    "import matplotlib.pyplot as plt                    # for plotting the images\n",
    "%matplotlib inline\n",
    "import pandas as pd\n",
    "from keras.preprocessing import image              # for preprocessing the images\n",
    "import numpy as np                                 # for mathematical operations\n",
    "from keras.utils import np_utils\n",
    "from skimage.transform import resize               # for resizing images"
   ]
  },
  {
   "cell_type": "code",
   "execution_count": 2,
   "id": "11d236d4",
   "metadata": {},
   "outputs": [],
   "source": [
    "## Read the video, extract frames from it and save them as images"
   ]
  },
  {
   "cell_type": "code",
   "execution_count": 3,
   "id": "b2a329d5",
   "metadata": {},
   "outputs": [
    {
     "name": "stdout",
     "output_type": "stream",
     "text": [
      "Done!\n"
     ]
    }
   ],
   "source": [
    "# import the necessary packages\n",
    "import cv2\n",
    "import imutils\n",
    "import math \n",
    "\n",
    "frame_list=[]\n",
    "count = 0\n",
    "videoFile = \"videoplayback.mp4\"     #input video file\n",
    "cap = cv2.VideoCapture(videoFile)   # capturing the video from the given path\n",
    "frameRate = cap.get(5)              #frame rate\n",
    "x=1\n",
    "while(cap.isOpened()):\n",
    "    frameId = cap.get(1)            #current frame number\n",
    "    ret, frame = cap.read()\n",
    "    if (ret != True):\n",
    "        break\n",
    "    if (frameId % math.floor(frameRate) == 0):\n",
    "        filename =\"vidimg/frame%d.jpg\" % count;count+=1\n",
    "        cv2.imwrite(filename, frame)\n",
    "        frame_list.append(filename)\n",
    "cap.release()\n",
    "print (\"Done!\")"
   ]
  },
  {
   "cell_type": "code",
   "execution_count": 4,
   "id": "44f91e63",
   "metadata": {},
   "outputs": [],
   "source": [
    "#Finding the emotion of each frame\n",
    "from deepface import DeepFace\n",
    "emotions_list=[]\n",
    "for x in frame_list:\n",
    "    face_analysis = DeepFace.analyze(img_path = x, actions = ['emotion'], enforce_detection=False)\n",
    "    emotions_list.append(face_analysis[\"dominant_emotion\"])"
   ]
  },
  {
   "cell_type": "code",
   "execution_count": 5,
   "id": "da8179e8",
   "metadata": {},
   "outputs": [],
   "source": [
    "# Creating a Dataset for Frames and the emotion in the frames\n",
    "df=pd.read_csv('framesdataset.csv')\n",
    "df['FrameID']=frame_list\n",
    "df['Emotion']=emotions_list\n",
    "\n",
    "df.to_csv('framesdataset.csv',index=False)"
   ]
  },
  {
   "cell_type": "code",
   "execution_count": 6,
   "id": "eb48c184",
   "metadata": {},
   "outputs": [
    {
     "data": {
      "text/html": [
       "<div>\n",
       "<style scoped>\n",
       "    .dataframe tbody tr th:only-of-type {\n",
       "        vertical-align: middle;\n",
       "    }\n",
       "\n",
       "    .dataframe tbody tr th {\n",
       "        vertical-align: top;\n",
       "    }\n",
       "\n",
       "    .dataframe thead th {\n",
       "        text-align: right;\n",
       "    }\n",
       "</style>\n",
       "<table border=\"1\" class=\"dataframe\">\n",
       "  <thead>\n",
       "    <tr style=\"text-align: right;\">\n",
       "      <th></th>\n",
       "      <th>FrameID</th>\n",
       "      <th>Emotion</th>\n",
       "    </tr>\n",
       "  </thead>\n",
       "  <tbody>\n",
       "    <tr>\n",
       "      <th>0</th>\n",
       "      <td>vidimg/frame0.jpg</td>\n",
       "      <td>angry</td>\n",
       "    </tr>\n",
       "    <tr>\n",
       "      <th>1</th>\n",
       "      <td>vidimg/frame1.jpg</td>\n",
       "      <td>neutral</td>\n",
       "    </tr>\n",
       "    <tr>\n",
       "      <th>2</th>\n",
       "      <td>vidimg/frame2.jpg</td>\n",
       "      <td>neutral</td>\n",
       "    </tr>\n",
       "    <tr>\n",
       "      <th>3</th>\n",
       "      <td>vidimg/frame3.jpg</td>\n",
       "      <td>fear</td>\n",
       "    </tr>\n",
       "    <tr>\n",
       "      <th>4</th>\n",
       "      <td>vidimg/frame4.jpg</td>\n",
       "      <td>neutral</td>\n",
       "    </tr>\n",
       "    <tr>\n",
       "      <th>...</th>\n",
       "      <td>...</td>\n",
       "      <td>...</td>\n",
       "    </tr>\n",
       "    <tr>\n",
       "      <th>685</th>\n",
       "      <td>vidimg/frame685.jpg</td>\n",
       "      <td>angry</td>\n",
       "    </tr>\n",
       "    <tr>\n",
       "      <th>686</th>\n",
       "      <td>vidimg/frame686.jpg</td>\n",
       "      <td>angry</td>\n",
       "    </tr>\n",
       "    <tr>\n",
       "      <th>687</th>\n",
       "      <td>vidimg/frame687.jpg</td>\n",
       "      <td>happy</td>\n",
       "    </tr>\n",
       "    <tr>\n",
       "      <th>688</th>\n",
       "      <td>vidimg/frame688.jpg</td>\n",
       "      <td>happy</td>\n",
       "    </tr>\n",
       "    <tr>\n",
       "      <th>689</th>\n",
       "      <td>vidimg/frame689.jpg</td>\n",
       "      <td>happy</td>\n",
       "    </tr>\n",
       "  </tbody>\n",
       "</table>\n",
       "<p>690 rows × 2 columns</p>\n",
       "</div>"
      ],
      "text/plain": [
       "                 FrameID  Emotion\n",
       "0      vidimg/frame0.jpg    angry\n",
       "1      vidimg/frame1.jpg  neutral\n",
       "2      vidimg/frame2.jpg  neutral\n",
       "3      vidimg/frame3.jpg     fear\n",
       "4      vidimg/frame4.jpg  neutral\n",
       "..                   ...      ...\n",
       "685  vidimg/frame685.jpg    angry\n",
       "686  vidimg/frame686.jpg    angry\n",
       "687  vidimg/frame687.jpg    happy\n",
       "688  vidimg/frame688.jpg    happy\n",
       "689  vidimg/frame689.jpg    happy\n",
       "\n",
       "[690 rows x 2 columns]"
      ]
     },
     "execution_count": 6,
     "metadata": {},
     "output_type": "execute_result"
    }
   ],
   "source": [
    "df"
   ]
  },
  {
   "cell_type": "code",
   "execution_count": 8,
   "id": "6fc1c8ea",
   "metadata": {},
   "outputs": [
    {
     "data": {
      "image/png": "[encoded data removed]",
      "text/plain": [
       "<Figure size 432x288 with 1 Axes>"
      ]
     },
     "metadata": {
      "needs_background": "light"
     },
     "output_type": "display_data"
    }
   ],
   "source": [
    "plt.hist(df['Emotion'])\n",
    "plt.show()  # To check the types of emotions captured in the frames"
   ]
  },
  {
   "cell_type": "code",
   "execution_count": 9,
   "id": "1c454916",
   "metadata": {},
   "outputs": [],
   "source": [
    "#seperating the data set to goal moments, loss moments and happy moments as lists\n",
    "list_loss_moments=[]\n",
    "list_happy_moments=[]\n",
    "list_goal=[]\n",
    "i=0\n",
    "for x in emotions_list:\n",
    "    if(x==\"angry\"or x==\"fear\"or x==\"sad\" or x==\"disgust\"):\n",
    "        list_loss_moments.append(frame_list[i])\n",
    "    elif(x==\"happy\"):\n",
    "        list_happy_moments.append(frame_list[i])\n",
    "    elif(x==\"surprise\"):\n",
    "        list_goal.append(frame_list[i])\n",
    "    i=i+1\n",
    "    if i>len(emotions_list):\n",
    "        break"
   ]
  },
  {
   "cell_type": "code",
   "execution_count": 10,
   "id": "87c4ea6b",
   "metadata": {},
   "outputs": [
    {
     "data": {
      "text/plain": [
       "['vidimg/frame82.jpg',\n",
       " 'vidimg/frame133.jpg',\n",
       " 'vidimg/frame246.jpg',\n",
       " 'vidimg/frame247.jpg',\n",
       " 'vidimg/frame248.jpg',\n",
       " 'vidimg/frame249.jpg',\n",
       " 'vidimg/frame376.jpg',\n",
       " 'vidimg/frame391.jpg',\n",
       " 'vidimg/frame392.jpg',\n",
       " 'vidimg/frame433.jpg',\n",
       " 'vidimg/frame452.jpg',\n",
       " 'vidimg/frame454.jpg',\n",
       " 'vidimg/frame486.jpg',\n",
       " 'vidimg/frame594.jpg']"
      ]
     },
     "execution_count": 10,
     "metadata": {},
     "output_type": "execute_result"
    }
   ],
   "source": [
    "list_goal"
   ]
  },
  {
   "cell_type": "code",
   "execution_count": 11,
   "id": "ceb49cfe",
   "metadata": {},
   "outputs": [],
   "source": [
    "#copying the goal moments, loss moments and happy moments from main image folder to sub folders for writing as output videos \n",
    "## Here if x is a goal moment, then x-y to x+y frames have been added where the value of y factor = 5 frames\n",
    "\n",
    "import shutil\n",
    "length=len(frame_list)\n",
    "\n",
    "for i in list_goal:\n",
    "    fn=i[7:]\n",
    "    y=i[12:-4]\n",
    "    p=int(y)-5\n",
    "    q=int(y)+5\n",
    "    z=p\n",
    "    while(z<q):\n",
    "        if (z>=length) or (z<0):\n",
    "            break;\n",
    "        else:\n",
    "            src_path = r\"C:\\Users\\user\\Documents\\vidimg\\\\frame\"+str(z)+\".jpg\"\n",
    "            dst_path = r\"C:\\Users\\user\\Documents\\goal_images\\\\frame\"+str(z)+\".jpg\"\n",
    "            shutil.copy(src_path, dst_path)\n",
    "        z=z+1\n",
    "\n",
    "\n",
    "for i in list_happy_moments:\n",
    "    fn=i[7:]\n",
    "    y=i[12:-4]\n",
    "    p=int(y)-5\n",
    "    q=int(y)+5\n",
    "    z=p\n",
    "    while(z<q):\n",
    "        if (z>=length) or (z<0):\n",
    "            break;\n",
    "        else:\n",
    "            src_path = r\"C:\\Users\\user\\Documents\\vidimg\\\\frame\"+str(z)+\".jpg\"\n",
    "            dst_path = r\"C:\\Users\\user\\Documents\\happy_images\\\\frame\"+str(z)+\".jpg\"\n",
    "            shutil.copy(src_path, dst_path)\n",
    "        z=z+1\n",
    "        \n",
    "for i in list_loss_moments:\n",
    "    fn=i[7:]\n",
    "    y=i[12:-4]\n",
    "    p=int(y)-5\n",
    "    q=int(y)+5\n",
    "    z=p\n",
    "    while(z<q):\n",
    "        if z>=length or z<0:\n",
    "            break\n",
    "        else:\n",
    "            src_path = r\"C:\\Users\\user\\Documents\\vidimg\\\\frame\"+str(z)+\".jpg\"\n",
    "            dst_path = r\"C:\\Users\\user\\Documents\\loss_images\\\\frame\"+str(z)+\".jpg\"\n",
    "            shutil.copy(src_path, dst_path)\n",
    "        z=z+1\n",
    "        "
   ]
  },
  {
   "cell_type": "code",
   "execution_count": 22,
   "id": "32cf1670",
   "metadata": {},
   "outputs": [],
   "source": [
    "#writing back the frames as three output videos : out_goal.mp4, out_happy.mp4, out_loss.mp4 \n",
    "#which contain the goal moments, happy moments and loss moments respectively. \n",
    "\n",
    "import glob\n",
    "\n",
    "img_array = []\n",
    "for filename in glob.glob('C:/Users/user/Documents/goal_images/*.jpg'):\n",
    "    img = cv2.imread(filename)\n",
    "    height, width, layers = img.shape\n",
    "    size = (width,height)\n",
    "    img_array.append(img)\n",
    "out = cv2.VideoWriter('out_goal.mp4',cv2.VideoWriter_fourcc(*'DIVX'),10,size)\n",
    "for i in range(len(img_array)):\n",
    "    out.write(img_array[i])\n",
    "out.release()\n",
    "\n",
    "img_array = []\n",
    "for filename in glob.glob('C:/Users/user/Documents/happy_images/*.jpg'):\n",
    "    img = cv2.imread(filename)\n",
    "    height, width, layers = img.shape\n",
    "    size = (width,height)\n",
    "    img_array.append(img)\n",
    "out = cv2.VideoWriter('out_happy.mp4',cv2.VideoWriter_fourcc(*'DIVX'),10,size)\n",
    "for i in range(len(img_array)):\n",
    "    out.write(img_array[i])\n",
    "out.release()\n",
    "\n",
    "img_array = []\n",
    "for filename in glob.glob('C:/Users/user/Documents/loss_images/*.jpg'):\n",
    "    img = cv2.imread(filename)\n",
    "    height, width, layers = img.shape\n",
    "    size = (width,height)\n",
    "    img_array.append(img)\n",
    "out = cv2.VideoWriter('out_loss.mp4',cv2.VideoWriter_fourcc(*'DIVX'),10,size)\n",
    "for i in range(len(img_array)):\n",
    "    out.write(img_array[i])\n",
    "out.release()\n",
    "\n"
   ]
  },
  {
   "cell_type": "code",
   "execution_count": 23,
   "id": "b3e1b098",
   "metadata": {},
   "outputs": [
    {
     "data": {
      "text/html": [
       "\n",
       "<video width=\"320\" height=\"240\" controls>\n",
       "  <source src=\"C:/Users/user/Documents/out_goal.mp4\" type=\"video/mp4\">\n",
       "</video>\n"
      ],
      "text/plain": [
       "<IPython.core.display.HTML object>"
      ]
     },
     "execution_count": 23,
     "metadata": {},
     "output_type": "execute_result"
    }
   ],
   "source": [
    "#Playing the Output Videos for Goal Moments, Happy Moments and Loss Moments\n",
    "\n",
    "from IPython.display import Video\n",
    "\n",
    "from IPython.display import HTML\n",
    "HTML(\"\"\"\n",
    "<video width=\"320\" height=\"240\" controls>\n",
    "  <source src=\"C:/Users/user/Documents/out_goal.mp4\" type=\"video/mp4\">\n",
    "</video>\n",
    "\"\"\")"
   ]
  },
  {
   "cell_type": "code",
   "execution_count": 24,
   "id": "bdb44aff",
   "metadata": {},
   "outputs": [
    {
     "data": {
      "text/html": [
       "\n",
       "<video width=\"320\" height=\"240\" controls>\n",
       "  <source src=\"C:/Users/user/Documents/out_happy.mp4\" type=\"video/mp4\">\n",
       "</video>\n"
      ],
      "text/plain": [
       "<IPython.core.display.HTML object>"
      ]
     },
     "execution_count": 24,
     "metadata": {},
     "output_type": "execute_result"
    }
   ],
   "source": [
    "from IPython.display import HTML\n",
    "HTML(\"\"\"\n",
    "<video width=\"320\" height=\"240\" controls>\n",
    "  <source src=\"C:/Users/user/Documents/out_happy.mp4\" type=\"video/mp4\">\n",
    "</video>\n",
    "\"\"\")"
   ]
  },
  {
   "cell_type": "code",
   "execution_count": 25,
   "id": "c2a015bf",
   "metadata": {},
   "outputs": [
    {
     "data": {
      "text/html": [
       "\n",
       "<video width=\"320\" height=\"240\" controls>\n",
       "  <source src=\"C:/Users/user/Documents/out_loss.mp4\" type=\"video/mp4\">\n",
       "</video>\n"
      ],
      "text/plain": [
       "<IPython.core.display.HTML object>"
      ]
     },
     "execution_count": 25,
     "metadata": {},
     "output_type": "execute_result"
    }
   ],
   "source": [
    "from IPython.display import HTML\n",
    "HTML(\"\"\"\n",
    "<video width=\"320\" height=\"240\" controls>\n",
    "  <source src=\"C:/Users/user/Documents/out_loss.mp4\" type=\"video/mp4\">\n",
    "</video>\n",
    "\"\"\")"
   ]
  },
  {
   "cell_type": "code",
   "execution_count": 16,
   "id": "a11ff0d1",
   "metadata": {},
   "outputs": [],
   "source": [
    "###End"
   ]
  },
  {
   "cell_type": "code",
   "execution_count": null,
   "id": "9d31a228",
   "metadata": {},
   "outputs": [],
   "source": []
  }
 ],
 "metadata": {
  "kernelspec": {
   "display_name": "Python 3 (ipykernel)",
   "language": "python",
   "name": "python3"
  },
  "language_info": {
   "codemirror_mode": {
    "name": "ipython",
    "version": 3
   },
   "file_extension": ".py",
   "mimetype": "text/x-python",
   "name": "python",
   "nbconvert_exporter": "python",
   "pygments_lexer": "ipython3",
   "version": "3.9.12"
  }
 },
 "nbformat": 4,
 "nbformat_minor": 5
}
